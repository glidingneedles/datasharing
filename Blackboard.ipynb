{
  "nbformat": 4,
  "nbformat_minor": 0,
  "metadata": {
    "colab": {
      "name": "Blackboard.ipynb",
      "provenance": [],
      "authorship_tag": "ABX9TyPY8Nx1sj+CsNeRK23oT/yG",
      "include_colab_link": true
    },
    "kernelspec": {
      "name": "python3",
      "display_name": "Python 3"
    }
  },
  "cells": [
    {
      "cell_type": "markdown",
      "metadata": {
        "id": "view-in-github",
        "colab_type": "text"
      },
      "source": [
        "<a href=\"https://colab.research.google.com/github/glidingneedles/datasharing/blob/master/Blackboard.ipynb\" target=\"_parent\"><img src=\"https://colab.research.google.com/assets/colab-badge.svg\" alt=\"Open In Colab\"/></a>"
      ]
    },
    {
      "cell_type": "code",
      "metadata": {
        "colab": {
          "base_uri": "https://localhost:8080/"
        },
        "id": "W98nnaU5vCHZ",
        "outputId": "9f55df10-23d2-4eb8-8c21-9174d06236b2"
      },
      "source": [
        "print(\"blackboard\")"
      ],
      "execution_count": 1,
      "outputs": [
        {
          "output_type": "stream",
          "text": [
            "blackboard\n"
          ],
          "name": "stdout"
        }
      ]
    }
  ]
}